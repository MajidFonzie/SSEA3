{
 "cells": [
  {
   "cell_type": "code",
   "execution_count": 84,
   "id": "40711e81",
   "metadata": {},
   "outputs": [
    {
     "name": "stdout",
     "output_type": "stream",
     "text": [
      "The key is: ecms\n",
      "The plainText is:\n",
      "ATTACK\n",
      "OR\n",
      "RETREAT\n",
      "WAIT\n",
      "UNTIL\n",
      "MONDAY\n"
     ]
    }
   ],
   "source": [
    "import string\n",
    "from itertools import permutations\n",
    "def vin(ciphertext, key):\n",
    "    key_length = len(key)\n",
    "    key_as_int = [ord(i) for i in key]\n",
    "    ciphertext_int = [ord(i) for i in ciphertext]\n",
    "    plaintext = ''\n",
    "    for i in range(len(ciphertext_int)):\n",
    "        value = (ciphertext_int[i] - key_as_int[i % key_length]) % 26\n",
    "        plaintext += chr(value + 65)\n",
    "    return plaintext\n",
    "\n",
    "\n",
    "#>>>>>>>>>>>>>> Brute Force <<<<<<<<<<<<<<<<<\n",
    "ct = 'evfsgm aj vgfjicf oekf mrvud qqzvea'\n",
    "days = ['wednesday', 'thursday', 'friday', 'saturday', 'sunday', 'monday', 'tuesday']\n",
    "flag = False\n",
    "alphabet = string.ascii_lowercase\n",
    "for x1,x2,x3,x4 in permutations(alphabet,4):\n",
    "    key = x1+x2+x3+x4\n",
    "    longKey=''.join(key[i % len(key)] for i in range(30))\n",
    "    i = 0 \n",
    "    for word in ct.split(' '):\n",
    "        k = (longKey[i:i+len(word)])\n",
    "        if vin(word,k).lower() in days:\n",
    "            print('The key is:',key)\n",
    "            flag = True\n",
    "            break\n",
    "        i = i + len(word)\n",
    "    if flag:\n",
    "        i = 0 \n",
    "        print('The plainText is:')\n",
    "        for word in ct.split(' '):\n",
    "            k = (longKey[i:i+len(word)])\n",
    "            print(vin(word,k))\n",
    "            i = i + len(word)\n",
    "        break\n",
    "\n"
   ]
  },
  {
   "cell_type": "code",
   "execution_count": null,
   "id": "4f4d73de",
   "metadata": {},
   "outputs": [],
   "source": []
  }
 ],
 "metadata": {
  "kernelspec": {
   "display_name": "Python 3 (ipykernel)",
   "language": "python",
   "name": "python3"
  },
  "language_info": {
   "codemirror_mode": {
    "name": "ipython",
    "version": 3
   },
   "file_extension": ".py",
   "mimetype": "text/x-python",
   "name": "python",
   "nbconvert_exporter": "python",
   "pygments_lexer": "ipython3",
   "version": "3.9.12"
  }
 },
 "nbformat": 4,
 "nbformat_minor": 5
}
