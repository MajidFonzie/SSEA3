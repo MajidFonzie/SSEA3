{
 "cells": [
  {
   "cell_type": "code",
   "execution_count": null,
   "id": "7ff96dcd",
   "metadata": {},
   "outputs": [],
   "source": [
    "import math\n",
    "from Crypto.PublicKey import RSA\n",
    "from Crypto.Cipher import PKCS1_OAEP\n",
    "from itertools import permutations\n",
    "import string\n",
    "\n",
    "# def similar(a, b):\n",
    "#     return SequenceMatcher(None, a, b).ratio()*100\n",
    "publicKey = RSA.importKey(open('rsa_key.pub').read())\n",
    "\n",
    "with open('ex3.enc', 'rb') as f:\n",
    "    ct = f.read()\n",
    "\n",
    "alpha = string.ascii_letters +string.digits\n",
    "print(alpha)\n",
    "cipher = PKCS1_OAEP.new(publicKey)\n",
    "\n",
    "\n",
    "\n",
    "for a,b,c in permutations(alpha,3):\n",
    "    m =((a+b+c).encode('ascii'))\n",
    "#     print(m)\n",
    "    ciphertext = cipher.encrypt(m)\n",
    "    if ciphertext==ct:\n",
    "        print(m)\n",
    "    \n",
    "\n",
    "\n"
   ]
  },
  {
   "cell_type": "code",
   "execution_count": null,
   "id": "86656f86",
   "metadata": {},
   "outputs": [],
   "source": []
  }
 ],
 "metadata": {
  "kernelspec": {
   "display_name": "Python 3 (ipykernel)",
   "language": "python",
   "name": "python3"
  },
  "language_info": {
   "codemirror_mode": {
    "name": "ipython",
    "version": 3
   },
   "file_extension": ".py",
   "mimetype": "text/x-python",
   "name": "python",
   "nbconvert_exporter": "python",
   "pygments_lexer": "ipython3",
   "version": "3.9.12"
  }
 },
 "nbformat": 4,
 "nbformat_minor": 5
}
